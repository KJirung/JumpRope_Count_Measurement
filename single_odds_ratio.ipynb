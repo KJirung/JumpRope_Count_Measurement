{
 "cells": [
  {
   "cell_type": "code",
   "execution_count": 1,
   "metadata": {},
   "outputs": [],
   "source": [
    "import statsmodels.api as sm\n",
    "import numpy as np\n",
    "import pandas as pd"
   ]
  },
  {
   "cell_type": "code",
   "execution_count": 2,
   "metadata": {},
   "outputs": [],
   "source": [
    "single_train = pd.read_csv(\"final_dataset/single/single_train.csv\")"
   ]
  },
  {
   "cell_type": "code",
   "execution_count": 3,
   "metadata": {},
   "outputs": [],
   "source": [
    "feature_columns = single_train.columns[1:-1]\n",
    "\n",
    "X_single_train = single_train[feature_columns].values\n",
    "Y_single_train = single_train['Label'].values"
   ]
  },
  {
   "cell_type": "code",
   "execution_count": 4,
   "metadata": {},
   "outputs": [
    {
     "name": "stdout",
     "output_type": "stream",
     "text": [
      "Optimization terminated successfully.\n",
      "         Current function value: 0.337565\n",
      "         Iterations 7\n"
     ]
    }
   ],
   "source": [
    "# 로지스틱 회귀 모델 적합\n",
    "model = sm.Logit(Y_single_train, X_single_train)\n",
    "result = model.fit()"
   ]
  },
  {
   "cell_type": "code",
   "execution_count": 5,
   "metadata": {},
   "outputs": [],
   "source": [
    "# 신뢰 구간을 DataFrame으로 변환\n",
    "conf = pd.DataFrame(result.conf_int(), index=feature_columns)\n",
    "conf.columns = ['CI Lower', 'CI Upper']  # 신뢰 구간 하한과 상한의 컬럼명 지정\n",
    "\n",
    "# odds ratio 계산 (계수의 지수 취하기)와 p-값 포함\n",
    "odds_ratios = pd.DataFrame({\n",
    "    'OR': np.exp(result.params), \n",
    "    'CI Upper': np.exp(conf['CI Upper']),  # 신뢰 구간 상한\n",
    "    'CI Lower': np.exp(conf['CI Lower']),  # 신뢰 구간 하한\n",
    "    'p-value': result.pvalues           # p-값\n",
    "}, index=feature_columns)\n",
    "\n",
    "# p-value를 소수점 형태로 변환\n",
    "odds_ratios['p-value'] = odds_ratios['p-value'].apply(lambda x: f'{x:.4f}')"
   ]
  },
  {
   "cell_type": "code",
   "execution_count": 6,
   "metadata": {},
   "outputs": [
    {
     "name": "stdout",
     "output_type": "stream",
     "text": [
      "                   OR  CI Upper  CI Lower p-value\n",
      "Neck         1.002155  1.010407  0.993970  0.6069\n",
      "RShoulder_X  1.038353  1.049016  1.027798  0.0000\n",
      "RShoulder_Y  0.986919  0.996660  0.977274  0.0086\n",
      "LShoulder_X  0.957175  0.965881  0.948547  0.0000\n",
      "LShoulder_Y  1.014227  1.024161  1.004389  0.0045\n",
      "RElbow_X     0.964682  0.973672  0.955776  0.0000\n",
      "RElbow_Y     1.004414  1.012966  0.995934  0.3086\n",
      "LElbow_X     0.993751  0.999881  0.987658  0.0457\n",
      "LElbow_Y     0.995963  1.001449  0.990507  0.1489\n",
      "RWrist_X     0.996915  1.000547  0.993295  0.0959\n",
      "RWrist_Y     1.001100  1.007068  0.995168  0.7169\n",
      "LWrist_X     1.011301  1.015097  1.007519  0.0000\n",
      "LWrist_Y     1.018153  1.024167  1.012174  0.0000\n",
      "RHip_X       1.005391  1.017573  0.993354  0.3817\n",
      "RHip_Y       0.986628  0.995183  0.978146  0.0022\n",
      "LHip_X       1.010242  1.022620  0.998013  0.1010\n",
      "LHip_Y       0.987892  0.996445  0.979412  0.0056\n",
      "RKnee_X      1.032440  1.046164  1.018897  0.0000\n",
      "RKnee_Y      0.997027  1.000099  0.993965  0.0578\n",
      "LKnee_X      1.009627  1.021307  0.998081  0.1026\n",
      "LKnee_Y      0.999131  1.002504  0.995769  0.6130\n",
      "RAnkle_X     0.998247  1.009587  0.987035  0.7608\n",
      "RAnkle_Y     1.021799  1.027595  1.016035  0.0000\n",
      "LAnkle_X     1.028563  1.039619  1.017624  0.0000\n",
      "LAnkle_Y     0.987190  0.992435  0.981973  0.0000\n",
      "Chest        0.972025  0.982779  0.961390  0.0000\n"
     ]
    }
   ],
   "source": [
    "print(odds_ratios)"
   ]
  }
 ],
 "metadata": {
  "kernelspec": {
   "display_name": "jw_tensorflow",
   "language": "python",
   "name": "python3"
  },
  "language_info": {
   "codemirror_mode": {
    "name": "ipython",
    "version": 3
   },
   "file_extension": ".py",
   "mimetype": "text/x-python",
   "name": "python",
   "nbconvert_exporter": "python",
   "pygments_lexer": "ipython3",
   "version": "3.11.9"
  }
 },
 "nbformat": 4,
 "nbformat_minor": 2
}
