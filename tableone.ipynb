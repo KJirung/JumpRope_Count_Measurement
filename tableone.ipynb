{
 "cells": [
  {
   "cell_type": "code",
   "execution_count": 1,
   "metadata": {},
   "outputs": [],
   "source": [
    "import matplotlib.pyplot as plt\n",
    "import pandas as pd\n",
    "import numpy as np\n",
    "from tableone import TableOne"
   ]
  },
  {
   "cell_type": "code",
   "execution_count": 2,
   "metadata": {},
   "outputs": [],
   "source": [
    "single_train = pd.read_csv(\"final_dataset/single/single_train.csv\")\n",
    "single_valid = pd.read_csv(\"final_dataset/single/single_valid.csv\")\n",
    "single_test = pd.read_csv(\"final_dataset/single/single_test.csv\")\n",
    "\n",
    "double_train = pd.read_csv(\"final_dataset/double/double_train.csv\")\n",
    "double_valid = pd.read_csv(\"final_dataset/double/double_valid.csv\")\n",
    "double_test = pd.read_csv(\"final_dataset/double/double_test.csv\")"
   ]
  },
  {
   "cell_type": "code",
   "execution_count": 3,
   "metadata": {},
   "outputs": [
    {
     "name": "stdout",
     "output_type": "stream",
     "text": [
      "                        Grouped by Label                                                     \n",
      "                                 Missing        Overall              0              1 P-Value\n",
      "n                                                  2910           1641           1269        \n",
      "Head, mean (SD)                        0  564.9 (184.0)  626.7 (150.2)  485.0 (192.6)  <0.001\n",
      "Neck, mean (SD)                        0  722.3 (163.0)  780.8 (131.3)  646.7 (168.9)  <0.001\n",
      "RShoulder_X, mean (SD)                 0   494.3 (94.7)   511.3 (96.8)   472.3 (87.2)  <0.001\n",
      "RShoulder_Y, mean (SD)                 0  759.4 (145.6)  814.6 (114.2)  688.1 (150.9)  <0.001\n",
      "LShoulder_X, mean (SD)                 0   570.3 (66.5)   562.0 (68.7)   581.0 (61.9)  <0.001\n",
      "LShoulder_Y, mean (SD)                 0  756.6 (148.7)  812.1 (117.0)  684.8 (154.4)  <0.001\n",
      "RElbow_X, mean (SD)                    0  482.0 (135.0)  511.9 (138.6)  443.4 (119.8)  <0.001\n",
      "RElbow_Y, mean (SD)                    0  865.8 (123.1)   917.0 (88.3)  799.7 (130.1)  <0.001\n",
      "LElbow_X, mean (SD)                    0  588.6 (104.5)  570.0 (110.8)   612.5 (90.2)  <0.001\n",
      "LElbow_Y, mean (SD)                    0  860.3 (130.0)   912.8 (95.5)  792.4 (137.1)  <0.001\n",
      "RWrist_X, mean (SD)                    0  459.0 (182.4)  505.1 (181.3)  399.4 (166.0)  <0.001\n",
      "RWrist_Y, mean (SD)                    0  891.8 (141.1)   939.2 (90.4)  830.5 (168.7)  <0.001\n",
      "LWrist_X, mean (SD)                    0  603.8 (154.9)  567.2 (157.8)  651.1 (137.4)  <0.001\n",
      "LWrist_Y, mean (SD)                    0  883.2 (150.6)   932.5 (98.2)  819.4 (179.8)  <0.001\n",
      "RHip_X, mean (SD)                      0   516.7 (58.2)   527.3 (57.5)   503.0 (56.2)  <0.001\n",
      "RHip_Y, mean (SD)                      0  998.4 (102.1)  1051.5 (77.9)   929.8 (87.8)  <0.001\n",
      "LHip_X, mean (SD)                      0   555.4 (41.3)   551.7 (41.7)   560.2 (40.2)  <0.001\n",
      "LHip_Y, mean (SD)                      0  996.0 (106.7)  1051.1 (81.4)   924.8 (92.5)  <0.001\n",
      "RKnee_X, mean (SD)                     0   521.7 (59.5)   532.5 (59.9)   507.8 (56.0)  <0.001\n",
      "RKnee_Y, mean (SD)                     0  1154.9 (84.9)  1192.7 (77.3)  1106.0 (67.6)  <0.001\n",
      "LKnee_X, mean (SD)                     0   563.9 (40.4)   559.9 (41.3)   569.2 (38.7)  <0.001\n",
      "LKnee_Y, mean (SD)                     0  1152.7 (84.2)  1192.3 (74.3)  1101.4 (66.6)  <0.001\n",
      "RAnkle_X, mean (SD)                    0   529.4 (52.7)   541.0 (52.0)   514.3 (49.8)  <0.001\n",
      "RAnkle_Y, mean (SD)                    0  1295.4 (68.8)  1324.3 (60.3)  1258.1 (60.7)  <0.001\n",
      "LAnkle_X, mean (SD)                    0   562.5 (38.1)   558.4 (39.0)   567.9 (36.1)  <0.001\n",
      "LAnkle_Y, mean (SD)                    0  1299.5 (69.6)  1330.3 (60.4)  1259.7 (59.9)  <0.001\n",
      "Chest, mean (SD)                       0  879.0 (122.0)   933.6 (93.5)  808.5 (118.5)  <0.001\n",
      "\n"
     ]
    }
   ],
   "source": [
    "single_train_table = TableOne(single_train, groupby='Label', pval=True)\n",
    "print(single_train_table)"
   ]
  },
  {
   "cell_type": "code",
   "execution_count": 4,
   "metadata": {},
   "outputs": [
    {
     "name": "stdout",
     "output_type": "stream",
     "text": [
      "                        Grouped by Label                                                      \n",
      "                                 Missing         Overall              0              1 P-Value\n",
      "n                                                   1633            963            670        \n",
      "Head, mean (SD)                        0   576.6 (185.0)  630.5 (163.9)  499.1 (186.1)  <0.001\n",
      "Neck, mean (SD)                        0   731.7 (164.6)  781.7 (144.6)  659.7 (165.0)  <0.001\n",
      "RShoulder_X, mean (SD)                 0   499.2 (102.9)  510.9 (101.6)  482.3 (102.5)  <0.001\n",
      "RShoulder_Y, mean (SD)                 0   768.6 (146.2)  816.0 (126.9)  700.5 (145.3)  <0.001\n",
      "LShoulder_X, mean (SD)                 0    574.1 (60.4)   573.6 (59.3)   574.9 (61.8)   0.682\n",
      "LShoulder_Y, mean (SD)                 0   765.6 (150.2)  811.8 (130.1)  699.2 (152.2)  <0.001\n",
      "RElbow_X, mean (SD)                    0   485.7 (137.3)  505.0 (136.8)  458.0 (133.4)  <0.001\n",
      "RElbow_Y, mean (SD)                    0   875.0 (126.3)  918.4 (103.5)  812.5 (129.9)  <0.001\n",
      "LElbow_X, mean (SD)                    0    594.7 (93.9)   588.2 (96.9)   604.1 (88.6)   0.001\n",
      "LElbow_Y, mean (SD)                    0   870.2 (130.2)  914.5 (105.6)  806.6 (135.9)  <0.001\n",
      "RWrist_X, mean (SD)                    0   460.3 (184.2)  489.3 (180.9)  418.7 (181.1)  <0.001\n",
      "RWrist_Y, mean (SD)                    0   902.4 (138.8)  938.6 (103.2)  850.3 (164.5)  <0.001\n",
      "LWrist_X, mean (SD)                    0   612.3 (139.7)  595.7 (142.4)  636.0 (132.3)  <0.001\n",
      "LWrist_Y, mean (SD)                    0   895.6 (149.1)  933.3 (111.7)  841.4 (176.9)  <0.001\n",
      "RHip_X, mean (SD)                      0    522.1 (65.7)   530.8 (62.8)   509.5 (67.8)  <0.001\n",
      "RHip_Y, mean (SD)                      0  1004.8 (108.5)  1052.9 (91.8)   935.7 (92.1)  <0.001\n",
      "LHip_X, mean (SD)                      0    560.3 (39.1)   562.7 (37.6)   557.0 (40.9)   0.004\n",
      "LHip_Y, mean (SD)                      0  1002.7 (110.5)  1049.7 (92.2)   935.0 (99.1)  <0.001\n",
      "RKnee_X, mean (SD)                     0    529.1 (68.2)   537.3 (67.2)   517.4 (68.1)  <0.001\n",
      "RKnee_Y, mean (SD)                     0   1154.6 (83.5)  1187.3 (78.4)  1107.7 (66.6)  <0.001\n",
      "LKnee_X, mean (SD)                     0    570.5 (37.4)   572.7 (37.0)   567.2 (37.7)   0.003\n",
      "LKnee_Y, mean (SD)                     0   1153.8 (82.7)  1189.8 (74.2)  1102.1 (65.0)  <0.001\n",
      "RAnkle_X, mean (SD)                    0    536.0 (60.4)   545.4 (58.1)   522.5 (61.1)  <0.001\n",
      "RAnkle_Y, mean (SD)                    0   1296.4 (65.0)  1321.4 (58.9)  1260.4 (55.8)  <0.001\n",
      "LAnkle_X, mean (SD)                    0    569.3 (36.7)   571.9 (38.3)   565.4 (33.9)  <0.001\n",
      "LAnkle_Y, mean (SD)                    0   1297.7 (64.7)  1324.9 (57.6)  1258.6 (53.4)  <0.001\n",
      "Chest, mean (SD)                       0   886.8 (125.9)  933.4 (107.0)  819.9 (120.8)  <0.001\n",
      "\n"
     ]
    }
   ],
   "source": [
    "single_valid_table = TableOne(single_valid, groupby='Label', pval=True)\n",
    "print(single_valid_table)"
   ]
  },
  {
   "cell_type": "code",
   "execution_count": 5,
   "metadata": {},
   "outputs": [
    {
     "name": "stdout",
     "output_type": "stream",
     "text": [
      "                        Grouped by Label                                                        \n",
      "                                 Missing         Overall               0               1 P-Value\n",
      "n                                                   1942            1045             897        \n",
      "Head, mean (SD)                        0   588.7 (185.3)   651.2 (150.3)   515.8 (195.4)  <0.001\n",
      "Neck, mean (SD)                        0   741.1 (171.0)   800.2 (137.2)   672.4 (180.5)  <0.001\n",
      "RShoulder_X, mean (SD)                 0   493.4 (100.2)    505.4 (99.2)    479.4 (99.6)  <0.001\n",
      "RShoulder_Y, mean (SD)                 0   774.7 (160.6)   830.9 (129.5)   709.2 (168.4)  <0.001\n",
      "LShoulder_X, mean (SD)                 0    568.1 (52.6)    567.8 (51.9)    568.3 (53.5)   0.845\n",
      "LShoulder_Y, mean (SD)                 0   768.9 (164.8)   825.5 (132.5)   703.0 (174.0)  <0.001\n",
      "RElbow_X, mean (SD)                    0   476.5 (135.0)   487.8 (142.5)   463.3 (124.5)  <0.001\n",
      "RElbow_Y, mean (SD)                    0   873.6 (151.1)   924.3 (128.1)   814.5 (154.5)  <0.001\n",
      "LElbow_X, mean (SD)                    0    591.1 (86.2)    590.6 (93.0)    591.6 (77.7)   0.794\n",
      "LElbow_Y, mean (SD)                    0   866.8 (155.9)   916.6 (132.9)   808.9 (160.7)  <0.001\n",
      "RWrist_X, mean (SD)                    0   452.1 (174.8)   468.9 (180.1)   432.5 (166.5)  <0.001\n",
      "RWrist_Y, mean (SD)                    0   901.9 (162.7)   928.1 (155.6)   871.3 (165.6)  <0.001\n",
      "LWrist_X, mean (SD)                    0   607.5 (130.6)   598.4 (137.8)   618.1 (121.0)   0.001\n",
      "LWrist_Y, mean (SD)                    0   895.1 (172.4)   924.2 (161.9)   861.2 (178.1)  <0.001\n",
      "RHip_X, mean (SD)                      0    516.8 (63.1)    524.8 (61.8)    507.6 (63.5)  <0.001\n",
      "RHip_Y, mean (SD)                      0  1002.4 (135.0)  1063.1 (105.4)   931.8 (131.4)  <0.001\n",
      "LHip_X, mean (SD)                      0    554.0 (35.4)    555.1 (34.7)    552.8 (36.1)   0.158\n",
      "LHip_Y, mean (SD)                      0   998.9 (140.7)  1060.2 (111.0)   927.5 (138.0)  <0.001\n",
      "RKnee_X, mean (SD)                     0    522.1 (64.8)    529.3 (64.1)    513.7 (64.6)  <0.001\n",
      "RKnee_Y, mean (SD)                     0  1136.9 (120.3)   1181.9 (97.4)  1084.5 (123.2)  <0.001\n",
      "LKnee_X, mean (SD)                     0    563.9 (34.3)    564.8 (33.9)    562.8 (34.7)   0.194\n",
      "LKnee_Y, mean (SD)                     0  1136.2 (123.3)   1183.4 (98.6)  1081.1 (126.3)  <0.001\n",
      "RAnkle_X, mean (SD)                    0    528.5 (58.2)    537.8 (56.6)    517.7 (58.2)  <0.001\n",
      "RAnkle_Y, mean (SD)                    0  1281.1 (105.4)   1315.6 (88.4)  1240.8 (109.2)  <0.001\n",
      "LAnkle_X, mean (SD)                    0    563.3 (32.0)    563.7 (32.7)    562.8 (31.1)   0.517\n",
      "LAnkle_Y, mean (SD)                    0  1280.8 (110.0)   1319.3 (92.9)  1235.8 (111.4)  <0.001\n",
      "Chest, mean (SD)                       0   889.6 (146.2)   948.5 (114.8)   821.1 (148.9)  <0.001\n",
      "\n"
     ]
    }
   ],
   "source": [
    "single_test_table = TableOne(single_test, groupby='Label', pval=True)\n",
    "print(single_test_table)"
   ]
  },
  {
   "cell_type": "code",
   "execution_count": 6,
   "metadata": {},
   "outputs": [
    {
     "name": "stdout",
     "output_type": "stream",
     "text": [
      "                        Grouped by Label                                                       \n",
      "                                 Missing         Overall               0              1 P-Value\n",
      "n                                                   3259            1471           1788        \n",
      "Head, mean (SD)                        0   608.4 (186.0)   668.3 (152.8)  559.2 (196.2)  <0.001\n",
      "Neck, mean (SD)                        0   758.7 (168.6)   816.4 (137.5)  711.3 (177.0)  <0.001\n",
      "RShoulder_X, mean (SD)                 0    497.5 (86.8)    502.9 (91.1)   493.0 (82.9)   0.001\n",
      "RShoulder_Y, mean (SD)                 0   772.1 (160.5)   831.1 (130.9)  723.6 (166.2)  <0.001\n",
      "LShoulder_X, mean (SD)                 0    581.8 (68.7)    578.5 (66.3)   584.5 (70.5)   0.013\n",
      "LShoulder_Y, mean (SD)                 0   767.6 (162.9)   825.6 (132.3)  719.8 (170.0)  <0.001\n",
      "RElbow_X, mean (SD)                    0   473.2 (117.3)   481.9 (126.4)  466.2 (108.8)  <0.001\n",
      "RElbow_Y, mean (SD)                    0   856.7 (147.2)   911.1 (119.4)  811.9 (152.8)  <0.001\n",
      "LElbow_X, mean (SD)                    0   606.1 (103.7)   602.8 (104.3)  608.8 (103.2)   0.098\n",
      "LElbow_Y, mean (SD)                    0   856.0 (146.2)   907.0 (120.2)  813.9 (152.1)  <0.001\n",
      "RWrist_X, mean (SD)                    0   446.0 (153.7)   462.1 (164.8)  432.8 (142.6)  <0.001\n",
      "RWrist_Y, mean (SD)                    0   883.6 (157.0)   914.2 (138.2)  858.4 (166.8)  <0.001\n",
      "LWrist_X, mean (SD)                    0   624.7 (143.0)   615.8 (142.1)  632.0 (143.3)   0.001\n",
      "LWrist_Y, mean (SD)                    0   883.1 (161.8)   912.6 (140.0)  858.9 (174.0)  <0.001\n",
      "RHip_X, mean (SD)                      0    519.2 (63.9)    522.8 (67.5)   516.3 (60.6)   0.004\n",
      "RHip_Y, mean (SD)                      0   978.0 (128.4)   1042.5 (99.2)  924.9 (125.4)  <0.001\n",
      "LHip_X, mean (SD)                      0    561.6 (55.5)    562.0 (57.2)   561.3 (54.1)   0.745\n",
      "LHip_Y, mean (SD)                      0   976.7 (129.0)  1039.8 (100.9)  924.8 (126.6)  <0.001\n",
      "RKnee_X, mean (SD)                     0    523.6 (67.0)    526.3 (70.4)   521.4 (64.1)   0.037\n",
      "RKnee_Y, mean (SD)                     0  1099.5 (115.1)   1169.8 (94.9)  1041.5 (96.5)  <0.001\n",
      "LKnee_X, mean (SD)                     0    571.3 (54.8)    569.0 (55.3)   573.2 (54.2)   0.028\n",
      "LKnee_Y, mean (SD)                     0  1098.4 (111.9)   1167.8 (92.0)  1041.3 (93.0)  <0.001\n",
      "RAnkle_X, mean (SD)                    0    528.8 (62.7)    534.1 (65.8)   524.4 (59.6)  <0.001\n",
      "RAnkle_Y, mean (SD)                    0  1231.9 (106.5)   1299.2 (86.0)  1176.5 (88.3)  <0.001\n",
      "LAnkle_X, mean (SD)                    0    565.2 (52.7)    566.3 (55.7)   564.3 (50.2)   0.278\n",
      "LAnkle_Y, mean (SD)                    0  1232.3 (108.7)   1300.3 (88.1)  1176.4 (90.6)  <0.001\n",
      "Chest, mean (SD)                       0   876.2 (140.6)   936.8 (110.8)  826.3 (142.9)  <0.001\n",
      "\n"
     ]
    }
   ],
   "source": [
    "double_train_table = TableOne(double_train, groupby='Label', pval=True)\n",
    "print(double_train_table)"
   ]
  },
  {
   "cell_type": "code",
   "execution_count": 7,
   "metadata": {},
   "outputs": [
    {
     "name": "stdout",
     "output_type": "stream",
     "text": [
      "                        Grouped by Label                                                       \n",
      "                                 Missing         Overall               0              1 P-Value\n",
      "n                                                   1896             907            989        \n",
      "Head, mean (SD)                        0   636.9 (159.9)   659.5 (159.6)  616.2 (157.4)  <0.001\n",
      "Neck, mean (SD)                        0   789.9 (146.9)   813.4 (144.8)  768.4 (145.7)  <0.001\n",
      "RShoulder_X, mean (SD)                 0    487.2 (83.5)    489.1 (90.8)   485.4 (76.1)   0.340\n",
      "RShoulder_Y, mean (SD)                 0   797.3 (140.1)   821.8 (139.7)  774.8 (136.7)  <0.001\n",
      "LShoulder_X, mean (SD)                 0    561.9 (65.5)    559.4 (63.3)   564.2 (67.4)   0.117\n",
      "LShoulder_Y, mean (SD)                 0   794.0 (140.7)   820.9 (137.4)  769.3 (139.1)  <0.001\n",
      "RElbow_X, mean (SD)                    0   465.2 (114.5)   469.0 (124.8)  461.8 (104.0)   0.176\n",
      "RElbow_Y, mean (SD)                    0   882.3 (129.0)   903.9 (127.5)  862.4 (127.2)  <0.001\n",
      "LElbow_X, mean (SD)                    0   582.5 (104.4)   575.8 (105.8)  588.6 (102.8)   0.007\n",
      "LElbow_Y, mean (SD)                    0   882.8 (126.7)   905.4 (125.2)  862.1 (124.6)  <0.001\n",
      "RWrist_X, mean (SD)                    0   434.5 (152.3)   441.5 (162.7)  428.1 (142.0)   0.057\n",
      "RWrist_Y, mean (SD)                    0   913.8 (134.6)   917.7 (131.2)  910.2 (137.6)   0.222\n",
      "LWrist_X, mean (SD)                    0   600.2 (147.3)   591.7 (148.8)  608.0 (145.6)   0.016\n",
      "LWrist_Y, mean (SD)                    0   918.3 (140.9)   921.4 (136.3)  915.5 (145.1)   0.362\n",
      "RHip_X, mean (SD)                      0    504.5 (54.9)    504.5 (60.4)   504.6 (49.5)   0.976\n",
      "RHip_Y, mean (SD)                      0  1001.6 (113.0)  1043.0 (111.1)  963.5 (100.8)  <0.001\n",
      "LHip_X, mean (SD)                      0    542.3 (47.4)    541.0 (46.2)   543.6 (48.4)   0.224\n",
      "LHip_Y, mean (SD)                      0  1001.3 (113.5)  1042.7 (112.7)  963.4 (100.3)  <0.001\n",
      "RKnee_X, mean (SD)                     0    510.6 (60.5)    508.5 (66.4)   512.4 (54.5)   0.162\n",
      "RKnee_Y, mean (SD)                     0  1119.3 (103.6)  1171.9 (101.9)  1070.9 (78.6)  <0.001\n",
      "LKnee_X, mean (SD)                     0    552.0 (49.4)    548.6 (46.0)   555.1 (52.1)   0.004\n",
      "LKnee_Y, mean (SD)                     0  1120.7 (103.7)  1173.6 (100.7)  1072.3 (80.0)  <0.001\n",
      "RAnkle_X, mean (SD)                    0    515.3 (55.5)    515.0 (62.4)   515.7 (48.2)   0.780\n",
      "RAnkle_Y, mean (SD)                    0  1252.4 (100.0)   1307.4 (85.9)  1202.0 (84.3)  <0.001\n",
      "LAnkle_X, mean (SD)                    0    546.4 (44.3)    546.4 (44.1)   546.5 (44.6)   0.958\n",
      "LAnkle_Y, mean (SD)                    0  1254.7 (101.7)   1312.1 (87.9)  1202.1 (83.4)  <0.001\n",
      "Chest, mean (SD)                       0   900.5 (122.0)   935.2 (120.3)  868.7 (114.7)  <0.001\n",
      "\n"
     ]
    }
   ],
   "source": [
    "double_valid_table = TableOne(double_valid, groupby='Label', pval=True)\n",
    "print(double_valid_table)"
   ]
  },
  {
   "cell_type": "code",
   "execution_count": 8,
   "metadata": {},
   "outputs": [
    {
     "name": "stdout",
     "output_type": "stream",
     "text": [
      "                        Grouped by Label                                                        \n",
      "                                 Missing         Overall               0               1 P-Value\n",
      "n                                                   2119             933            1186        \n",
      "Head, mean (SD)                        0   604.5 (191.0)   663.7 (156.1)   558.0 (202.9)  <0.001\n",
      "Neck, mean (SD)                        0   756.4 (177.0)   812.2 (143.9)   712.6 (188.0)  <0.001\n",
      "RShoulder_X, mean (SD)                 0    496.3 (91.5)   504.4 (101.5)    490.0 (82.4)  <0.001\n",
      "RShoulder_Y, mean (SD)                 0   766.1 (172.3)   824.3 (138.4)   720.3 (182.3)  <0.001\n",
      "LShoulder_X, mean (SD)                 0    580.2 (55.4)    565.6 (54.5)    591.7 (53.3)  <0.001\n",
      "LShoulder_Y, mean (SD)                 0   759.1 (174.2)   816.7 (139.1)   713.8 (185.3)  <0.001\n",
      "RElbow_X, mean (SD)                    0   472.3 (123.1)   489.7 (142.2)   458.6 (103.8)  <0.001\n",
      "RElbow_Y, mean (SD)                    0   851.7 (163.8)   906.2 (130.8)   808.9 (174.2)  <0.001\n",
      "LElbow_X, mean (SD)                    0    604.1 (83.4)    582.0 (90.1)    621.4 (73.2)  <0.001\n",
      "LElbow_Y, mean (SD)                    0   849.5 (162.5)   902.8 (128.0)   807.7 (174.1)  <0.001\n",
      "RWrist_X, mean (SD)                    0   437.4 (153.9)   460.9 (176.8)   419.0 (130.3)  <0.001\n",
      "RWrist_Y, mean (SD)                    0   882.5 (169.6)   921.1 (128.1)   852.1 (190.8)  <0.001\n",
      "LWrist_X, mean (SD)                    0   627.1 (120.8)   596.3 (134.2)   651.4 (102.9)  <0.001\n",
      "LWrist_Y, mean (SD)                    0   882.2 (178.4)   920.8 (133.3)   851.8 (202.0)  <0.001\n",
      "RHip_X, mean (SD)                      0    519.7 (64.7)    522.9 (70.9)    517.3 (59.4)   0.052\n",
      "RHip_Y, mean (SD)                      0   968.3 (144.7)  1034.5 (119.2)   916.2 (141.7)  <0.001\n",
      "LHip_X, mean (SD)                      0    559.9 (40.7)    551.6 (40.0)    566.5 (40.0)  <0.001\n",
      "LHip_Y, mean (SD)                      0   967.4 (145.6)  1033.2 (120.1)   915.7 (143.0)  <0.001\n",
      "RKnee_X, mean (SD)                     0    525.4 (68.0)    528.9 (74.9)    522.7 (62.0)   0.039\n",
      "RKnee_Y, mean (SD)                     0  1087.5 (137.4)  1164.1 (118.7)  1027.2 (119.9)  <0.001\n",
      "LKnee_X, mean (SD)                     0    569.9 (43.3)    560.6 (37.9)    577.3 (45.7)  <0.001\n",
      "LKnee_Y, mean (SD)                     0  1088.5 (133.6)  1160.5 (118.1)  1031.9 (116.8)  <0.001\n",
      "RAnkle_X, mean (SD)                    0    531.8 (60.5)    535.3 (67.2)    529.0 (54.6)   0.021\n",
      "RAnkle_Y, mean (SD)                    0  1222.1 (129.4)  1294.0 (115.0)  1165.6 (110.8)  <0.001\n",
      "LAnkle_X, mean (SD)                    0    563.4 (38.6)    557.2 (38.8)    568.3 (37.7)  <0.001\n",
      "LAnkle_Y, mean (SD)                    0  1223.5 (130.2)  1297.9 (115.0)  1165.0 (110.0)  <0.001\n",
      "Chest, mean (SD)                       0   866.1 (154.8)   928.3 (125.2)   817.2 (158.2)  <0.001\n",
      "\n"
     ]
    }
   ],
   "source": [
    "double_test_table = TableOne(double_test, groupby='Label', pval=True)\n",
    "print(double_test_table)"
   ]
  }
 ],
 "metadata": {
  "kernelspec": {
   "display_name": "jw_tensorflow",
   "language": "python",
   "name": "python3"
  },
  "language_info": {
   "codemirror_mode": {
    "name": "ipython",
    "version": 3
   },
   "file_extension": ".py",
   "mimetype": "text/x-python",
   "name": "python",
   "nbconvert_exporter": "python",
   "pygments_lexer": "ipython3",
   "version": "3.11.9"
  }
 },
 "nbformat": 4,
 "nbformat_minor": 2
}
