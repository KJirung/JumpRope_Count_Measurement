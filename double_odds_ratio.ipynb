{
 "cells": [
  {
   "cell_type": "code",
   "execution_count": 1,
   "metadata": {},
   "outputs": [],
   "source": [
    "import statsmodels.api as sm\n",
    "import numpy as np\n",
    "import pandas as pd"
   ]
  },
  {
   "cell_type": "code",
   "execution_count": 2,
   "metadata": {},
   "outputs": [],
   "source": [
    "double_train = pd.read_csv(\"final_dataset/double/double_train.csv\")"
   ]
  },
  {
   "cell_type": "code",
   "execution_count": 3,
   "metadata": {},
   "outputs": [],
   "source": [
    "feature_columns = double_train.columns[1:-1]\n",
    "\n",
    "X_double_train = double_train[feature_columns].values\n",
    "Y_double_train = double_train['Label'].values"
   ]
  },
  {
   "cell_type": "code",
   "execution_count": 4,
   "metadata": {},
   "outputs": [
    {
     "name": "stdout",
     "output_type": "stream",
     "text": [
      "Optimization terminated successfully.\n",
      "         Current function value: 0.336887\n",
      "         Iterations 7\n"
     ]
    }
   ],
   "source": [
    "# 로지스틱 회귀 모델 적합\n",
    "model = sm.Logit(Y_double_train, X_double_train)\n",
    "result = model.fit()"
   ]
  },
  {
   "cell_type": "code",
   "execution_count": 8,
   "metadata": {},
   "outputs": [],
   "source": [
    "# 신뢰 구간을 DataFrame으로 변환\n",
    "conf = pd.DataFrame(result.conf_int(), index=feature_columns)\n",
    "conf.columns = ['CI Lower', 'CI Upper']  # 신뢰 구간 하한과 상한의 컬럼명 지정\n",
    "\n",
    "# odds ratio 계산 (계수의 지수 취하기)와 p-값 포함\n",
    "odds_ratios = pd.DataFrame({\n",
    "    'OR': np.exp(result.params), \n",
    "    'CI Lower': np.exp(conf['CI Lower']),  # 신뢰 구간 하한\n",
    "    'CI Upper': np.exp(conf['CI Upper']),  # 신뢰 구간 상한\n",
    "    'p-value': result.pvalues           # p-값\n",
    "}, index=feature_columns)\n",
    "\n",
    "# p-value를 소수점 형태로 변환\n",
    "odds_ratios['p-value'] = odds_ratios['p-value'].apply(lambda x: f'{x:.4f}')"
   ]
  },
  {
   "cell_type": "code",
   "execution_count": 9,
   "metadata": {},
   "outputs": [
    {
     "name": "stdout",
     "output_type": "stream",
     "text": [
      "                   OR  CI Upper  CI Lower p-value\n",
      "Neck         1.023767  1.030412  1.017165  0.0000\n",
      "RShoulder_X  1.031817  1.039799  1.023897  0.0000\n",
      "RShoulder_Y  0.981246  0.989735  0.972830  0.0000\n",
      "LShoulder_X  1.011312  1.018423  1.004251  0.0017\n",
      "LShoulder_Y  0.983725  0.992385  0.975141  0.0002\n",
      "RElbow_X     1.001146  1.006208  0.996109  0.6563\n",
      "RElbow_Y     0.981175  0.987926  0.974471  0.0000\n",
      "LElbow_X     1.004892  1.009303  1.000499  0.0290\n",
      "LElbow_Y     0.983823  0.990255  0.977432  0.0000\n",
      "RWrist_X     0.995705  0.998281  0.993136  0.0011\n",
      "RWrist_Y     1.018821  1.023937  1.013731  0.0000\n",
      "LWrist_X     0.998562  1.000614  0.996515  0.1694\n",
      "LWrist_Y     1.022071  1.027016  1.017150  0.0000\n",
      "RHip_X       0.996782  1.005289  0.988348  0.4572\n",
      "RHip_Y       1.000963  1.009359  0.992637  0.8212\n",
      "LHip_X       0.990172  0.997990  0.982415  0.0138\n",
      "LHip_Y       0.997036  1.005250  0.988888  0.4783\n",
      "RKnee_X      1.016638  1.025175  1.008171  0.0001\n",
      "RKnee_Y      1.003033  1.007348  0.998737  0.1666\n",
      "LKnee_X      1.025326  1.033105  1.017606  0.0000\n",
      "LKnee_Y      0.991292  0.995788  0.986816  0.0002\n",
      "RAnkle_X     0.978117  0.985721  0.970572  0.0000\n",
      "RAnkle_Y     1.009226  1.014734  1.003748  0.0009\n",
      "LAnkle_X     0.985434  0.993300  0.977631  0.0003\n",
      "LAnkle_Y     0.990684  0.995818  0.985576  0.0004\n",
      "Chest        0.993094  1.003136  0.983153  0.1770\n"
     ]
    }
   ],
   "source": [
    "print(odds_ratios)"
   ]
  }
 ],
 "metadata": {
  "kernelspec": {
   "display_name": "jw_tensorflow",
   "language": "python",
   "name": "python3"
  },
  "language_info": {
   "codemirror_mode": {
    "name": "ipython",
    "version": 3
   },
   "file_extension": ".py",
   "mimetype": "text/x-python",
   "name": "python",
   "nbconvert_exporter": "python",
   "pygments_lexer": "ipython3",
   "version": "3.11.9"
  }
 },
 "nbformat": 4,
 "nbformat_minor": 2
}
